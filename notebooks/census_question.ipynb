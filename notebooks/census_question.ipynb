{
 "cells": [
  {
   "cell_type": "markdown",
   "metadata": {},
   "source": [
    "Install dependencies"
   ]
  },
  {
   "cell_type": "code",
   "execution_count": null,
   "metadata": {},
   "outputs": [],
   "source": [
    "import pandas as pd\n",
    "import numpy as np"
   ]
  },
  {
   "cell_type": "markdown",
   "metadata": {},
   "source": [
    "Import the data and make necessary changes"
   ]
  },
  {
   "cell_type": "code",
   "execution_count": null,
   "metadata": {},
   "outputs": [],
   "source": [
    "census_data = pd.read_csv('../data/sc-est2023-alldata5.csv')\n",
    "# Keep the rows with \n",
    "census_data = census_data[(census_data['SEX']==0) & (census_data['ORIGIN']==0)].reset_index(drop=True)\n",
    "census_data['DIVISION'] = np.where(census_data['DIVISION'] == 1, 'New England',\n",
    "                            np.where(census_data['DIVISION'] == 2, 'Middle Atlantic',\n",
    "                            np.where(census_data['DIVISION'] == 3, 'East North Central',\n",
    "                            np.where(census_data['DIVISION'] == 4, 'West North Central',\n",
    "                            np.where(census_data['DIVISION'] == 5, 'South Atlantic',\n",
    "                            np.where(census_data['DIVISION'] == 6, 'East South Central',\n",
    "                            np.where(census_data['DIVISION'] == 7, 'West South Central',\n",
    "                            np.where(census_data['DIVISION'] == 8, 'Mountain',\n",
    "                            np.where(census_data['DIVISION'] == 9, 'Pacific', 'Unknown')))))))))\n",
    "census_data = census_data[['DIVISION', 'NAME','AGE','RACE','ESTIMATESBASE2020']]\n",
    "census_data"
   ]
  },
  {
   "cell_type": "markdown",
   "metadata": {},
   "source": [
    "VARIABLE DESCRIPTION\n",
    "\n",
    "SUMLEV Geographic Summary Level\n",
    "\n",
    "REGION Census Region code\n",
    "\n",
    "DIVISION Census Division code\n",
    "\n",
    "STATE State FIPS code\n",
    "\n",
    "NAME State Name\n",
    "\n",
    "RACE Race\n",
    "\n",
    "AGE Age\n",
    "\n",
    "ESTIMATESBASE2020 4/1/2020 resident population estimates base"
   ]
  },
  {
   "cell_type": "markdown",
   "metadata": {},
   "source": [
    "Answer the following questions:\n",
    "\n",
    "    1. Which state has the lowest, highest, and median percentage of 64 year olds?\n",
    "    \n",
    "    2. Sort the divions in order of the percentage of their population under 22 years old \n",
    "\n",
    "    3. What is the median age in Nevada, estimated, in 2020?\n",
    "\n",
    "\n",
    "For all questions, base your answers off the population field \"ESTIMATESBASE2020\""
   ]
  },
  {
   "cell_type": "code",
   "execution_count": null,
   "metadata": {},
   "outputs": [],
   "source": []
  },
  {
   "cell_type": "code",
   "execution_count": null,
   "metadata": {},
   "outputs": [],
   "source": []
  },
  {
   "cell_type": "code",
   "execution_count": null,
   "metadata": {},
   "outputs": [],
   "source": []
  }
 ],
 "metadata": {
  "kernelspec": {
   "display_name": "Python 3",
   "language": "python",
   "name": "python3"
  },
  "language_info": {
   "codemirror_mode": {
    "name": "ipython",
    "version": 3
   },
   "file_extension": ".py",
   "mimetype": "text/x-python",
   "name": "python",
   "nbconvert_exporter": "python",
   "pygments_lexer": "ipython3",
   "version": "3.12.1"
  }
 },
 "nbformat": 4,
 "nbformat_minor": 2
}
